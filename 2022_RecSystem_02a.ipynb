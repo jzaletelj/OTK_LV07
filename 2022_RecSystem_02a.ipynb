{
 "cells": [
  {
   "cell_type": "markdown",
   "metadata": {},
   "source": [
    "# Lab 07: Matrična faktorizacija\n",
    "\n",
    "This exercise will introduce an advanced version of non-linear optimization - the use of a gradient descent algorithm in a  movie recommender system. To achieve this aim we will introduce RMSE evaluation metric, 10-fold cross validation and the Matrix Factorization algorithm.\n",
    "\n",
    "## Recommender Systems\n",
    "Recommender systems were developed as a solution to the overwhelming number of content items available to the user. With the rapid growth of the internet availability the ease of multimedia item production the user can quickly become unable to chose what to watch / listen / read since he/she has too many items to chose from.\n",
    "Recommender systems have developed as a solution to this problem. They work in many different ways - from looking for people with similar taste (Collaborative Recommender Systems) to discerning each user’s particular taste (Content-based Recommender Systems) to any combination of approaches (Hybrid Recommender System).\n",
    "Regardless of the approach they require some setup - determining the optimum setting values to achieve the best performance. \n",
    "For this exercise we will focus on the Matrix Factorization approach which is one of the better known Collaborative algorithms.\n",
    "\n",
    "The explanation of Matrix factorization is available in the literature:\n",
    "https://e.fe.uni-lj.si/mod/folder/view.php?id=10996\n",
    "\n",
    "\n",
    "## Matrix Factorization\n",
    "The Matrix Factorization (MF) approach works by transforming the user-item matrix into a feature space that has some similarities with the PCA approach. The aim of the algorithm is to generate a set of latent features for each existing user and item. Any rating can then be calculated with the help of a dot product of the feature vector of the user who is looking for a recommendation and the feature vector of the potentially interesting multimedia item. \n",
    "\n",
    "\n",
    "## Base equation\n",
    "The basic equation for predicted rating calculation is \n",
    "$r = b + b_u+b_i+p*q$\n",
    "With $b$ being the global bias (database average rating), $b_u$ user bias, $b_i$ item bias and the $p*q$ the dot product of the feature vectors.\n",
    "\n",
    "## Feature calculation\n",
    "The challenge of the MF approach lies in the feature calculation. Since most of the user-item matrix features empty values (i.e. the users did not rate the items yet) we cannot use a direct PCA approach. Instead we use a gradient descent based approach that tries to set the feature values in such a way that the calculated rating match the actual ratings as close as possible.\n",
    " \n",
    "The approach works (for each rating):\n",
    "* Calculate the current predicted rating\n",
    "* Error is the difference between the calculated rating and the true rating in the dataset\n",
    "* Use the following two equations to set the value of the current latent feature\n",
    " - tmpUF =tempUF + (error *tempIF -regularization *tempUF) *pLearningRate\n",
    " - tmpIF = tempIF + (error *tempUF -regularization *tempIF) *qLearningRate \n",
    "\n",
    "The approach therefore features a set of parameters, that can be optimized to minimize the error of the prediction.\n",
    "\n"
   ]
  },
  {
   "cell_type": "markdown",
   "metadata": {},
   "source": [
    "As usual we must import our data, prepare the dataset and initialize our values."
   ]
  },
  {
   "cell_type": "code",
   "execution_count": 13,
   "metadata": {
    "pycharm": {
     "is_executing": false
    }
   },
   "outputs": [
    {
     "name": "stdout",
     "output_type": "stream",
     "text": [
      "0.03\n"
     ]
    }
   ],
   "source": [
    "import algorithm as alg\n",
    "import logging\n",
    "import DataParser as dp\n",
    "import bralec as cnf\n",
    "\n",
    "# CONFIGURATION PARAMETERS\n",
    "#cnf.GE_cf.set(\"datasetFolding\",\"fold\",\"True\") #to fold or not to fold\n",
    "cnf.GE_cf.set(\"datasetFolding\",\"fold\",\"False\") #to fold or not to fold\n",
    "\n",
    "# SELECT DATA SET\n",
    "# cnf.GE_cf.set(\"dataSet\",\"dataName\",\"CoMoDa_small.txt\")\n",
    "cnf.GE_cf.set(\"dataSet\",\"dataName\",\"CoMoDa_500.txt\")\n",
    "\n",
    "# Configure number of folds\n",
    "cnf.GE_cf.set(\"datasetFolding\", \"numOfFolds\", \"5\")\n",
    "\n",
    "# Create training and testing data set \n",
    "dp.createTrainTestSet()\n",
    "test = alg.Algorithm()\n",
    "\n",
    "# Size of feature vector, representing users and items\n",
    "test.numOfFeatures = 5\n",
    "# Learning rate (speed)\n",
    "test.pLearningRate = 0.2\n",
    "test.qLearningRate = 0.2\n",
    "# Regularization \n",
    "test.regularization = 0.5\n",
    "# Starting value of features\n",
    "test.initFeatureValue = 0.2\n",
    "# Number of iterations\n",
    "test.numofiterations = 20"
   ]
  },
  {
   "cell_type": "code",
   "execution_count": 6,
   "metadata": {},
   "outputs": [],
   "source": [
    "dp.db.trainSet"
   ]
  },
  {
   "cell_type": "markdown",
   "metadata": {},
   "source": [
    "## Evaluation\n",
    "In order to evaluate the efficiency of the settings we will use the RMSE and 10-fold cross validation.\n",
    "\n",
    "### RMSE\n",
    "RMSE is one of the “standard” approaches in RS. It calculates the Root Mean Square Error - the difference between the predicted and the true rating.\n",
    "$RMSE = \\sqrt{\\frac{\\sum_1^{N}(\\hat{r}-r)}{N}}$\n",
    "\n",
    " \n",
    "So the lower the value, the better our system fits the values.\n"
   ]
  },
  {
   "cell_type": "code",
   "execution_count": null,
   "metadata": {},
   "outputs": [],
   "source": []
  },
  {
   "cell_type": "code",
   "execution_count": 14,
   "metadata": {
    "pycharm": {
     "is_executing": false
    },
    "scrolled": true
   },
   "outputs": [
    {
     "name": "stderr",
     "output_type": "stream",
     "text": [
      "INFO - Calculating baseline\n",
      "INFO -  MaxUserId = 157\n",
      "INFO -  MaxItemId = 3646\n",
      "INFO - Feature = 0\n",
      "INFO - Feature = 1\n",
      "INFO - Feature = 2\n",
      "INFO - Feature = 3\n",
      "INFO - Feature = 4\n",
      "INFO - MF algorithm RMSE = 1.1898684306219736\n"
     ]
    },
    {
     "name": "stdout",
     "output_type": "stream",
     "text": [
      "1.1898684306219736\n",
      "Wall time: 22.9 s\n"
     ]
    }
   ],
   "source": [
    "%%time\n",
    "print (test.getBaseline())"
   ]
  },
  {
   "cell_type": "markdown",
   "metadata": {},
   "source": [
    "### Križna validacija: 10-fold cross validation\n",
    "\n",
    "There often exists a set of setting values that performs extraordinarily on one set of data well but fails on all other sets. We are of course interested in values that would perform well in any environment. In order to find this we use the 10-fold cross validation approach - we split the data set into 10 parts and use 9 parts for training and 1 part for evaluation and repeat this 10 times - each time using different part for evaluation. This ensures that our parameters work well with different combinations of data."
   ]
  },
  {
   "cell_type": "code",
   "execution_count": 24,
   "metadata": {},
   "outputs": [
    {
     "name": "stdout",
     "output_type": "stream",
     "text": [
      "0.03\n"
     ]
    }
   ],
   "source": [
    "# CONFIGURATION PARAMETERS\n",
    "cnf.GE_cf.set(\"datasetFolding\",\"fold\",\"True\") #to fold or not to fold\n",
    "\n",
    "# SELECT DATA SET\n",
    "# cnf.GE_cf.set(\"dataSet\",\"dataName\",\"CoMoDa_small.txt\")\n",
    "cnf.GE_cf.set(\"dataSet\",\"dataName\",\"CoMoDa_500.txt\")\n",
    "\n",
    "# Configure number of folds\n",
    "cnf.GE_cf.set(\"datasetFolding\", \"numOfFolds\", \"10\")\n",
    "\n",
    "# Create training and testing data set \n",
    "dp.createTrainTestSet()\n",
    "test = alg.Algorithm()\n",
    "\n",
    "# Size of feature vector, representing users and items\n",
    "test.numOfFeatures = 2\n",
    "# Learning rate (speed)\n",
    "test.pLearningRate = 0.2\n",
    "test.qLearningRate = 0.2\n",
    "# Regularization \n",
    "test.regularization = 0.5\n",
    "# Starting value of features\n",
    "test.initFeatureValue = 0.2\n",
    "# Number of iterations\n",
    "test.numofiterations = 10"
   ]
  },
  {
   "cell_type": "code",
   "execution_count": 25,
   "metadata": {},
   "outputs": [
    {
     "name": "stderr",
     "output_type": "stream",
     "text": [
      "INFO - Calculating folded baseline: 10\n",
      "INFO -  MaxUserId = 157\n",
      "INFO -  MaxItemId = 3646\n",
      "INFO - Feature = 0\n",
      "INFO - Feature = 1\n",
      "INFO -  MaxUserId = 157\n",
      "INFO -  MaxItemId = 3646\n",
      "INFO - Feature = 0\n",
      "INFO - Feature = 1\n",
      "INFO -  MaxUserId = 103\n",
      "INFO -  MaxItemId = 3646\n",
      "INFO - Feature = 0\n",
      "INFO - Feature = 1\n",
      "INFO -  MaxUserId = 157\n",
      "INFO -  MaxItemId = 3646\n",
      "INFO - Feature = 0\n",
      "INFO - Feature = 1\n",
      "INFO -  MaxUserId = 157\n",
      "INFO -  MaxItemId = 3646\n",
      "INFO - Feature = 0\n",
      "INFO - Feature = 1\n",
      "INFO -  MaxUserId = 157\n",
      "INFO -  MaxItemId = 3646\n",
      "INFO - Feature = 0\n",
      "INFO - Feature = 1\n",
      "INFO -  MaxUserId = 157\n",
      "INFO -  MaxItemId = 3646\n",
      "INFO - Feature = 0\n",
      "INFO - Feature = 1\n",
      "INFO -  MaxUserId = 157\n",
      "INFO -  MaxItemId = 3585\n",
      "INFO - Feature = 0\n",
      "INFO - Feature = 1\n",
      "INFO -  MaxUserId = 157\n",
      "INFO -  MaxItemId = 3646\n",
      "INFO - Feature = 0\n",
      "INFO - Feature = 1\n",
      "INFO -  MaxUserId = 157\n",
      "INFO -  MaxItemId = 3646\n",
      "INFO - Feature = 0\n",
      "INFO - Feature = 1\n",
      "INFO - MF algorithm RMSE = 1.1100078917621052\n"
     ]
    },
    {
     "name": "stdout",
     "output_type": "stream",
     "text": [
      "1.1100078917621052\n",
      "Wall time: 1min 42s\n"
     ]
    }
   ],
   "source": [
    "%%time\n",
    "print (test.getBaseline())"
   ]
  },
  {
   "cell_type": "markdown",
   "metadata": {},
   "source": [
    "\n"
   ]
  },
  {
   "cell_type": "code",
   "execution_count": null,
   "metadata": {},
   "outputs": [],
   "source": []
  },
  {
   "cell_type": "markdown",
   "metadata": {},
   "source": [
    "### Naloga 1\n",
    "\n",
    "Spreminjaj število dimenzij (značilk), ter opazuj vpliv na napako (RMSE) in čas izvajanja. Število pregibov (fold) naj bo 5.\n",
    "Rezultate zberi v tabeli. Pri katerem številu značilk dobiš najboljši rezultat (najmanjšo napako)?\n",
    "\n"
   ]
  },
  {
   "cell_type": "code",
   "execution_count": 21,
   "metadata": {
    "pycharm": {
     "is_executing": false
    }
   },
   "outputs": [
    {
     "name": "stdout",
     "output_type": "stream",
     "text": [
      "0.03\n"
     ]
    }
   ],
   "source": [
    "# CONFIGURATION PARAMETERS\n",
    "cnf.GE_cf.set(\"datasetFolding\",\"fold\",\"True\") #to fold or not to fold\n",
    "\n",
    "# SELECT DATA SET\n",
    "# cnf.GE_cf.set(\"dataSet\",\"dataName\",\"CoMoDa_small.txt\")\n",
    "cnf.GE_cf.set(\"dataSet\",\"dataName\",\"CoMoDa_500.txt\")\n",
    "\n",
    "# Configure number of folds\n",
    "cnf.GE_cf.set(\"datasetFolding\", \"numOfFolds\", \"5\")\n",
    "\n",
    "# Create training and testing data set \n",
    "dp.createTrainTestSet()\n",
    "test = alg.Algorithm()\n",
    "\n",
    "# Size of feature vector, representing users and items\n",
    "test.numOfFeatures = 1\n",
    "# Learning rate (speed)\n",
    "test.pLearningRate = 0.2\n",
    "test.qLearningRate = 0.2\n",
    "# Regularization \n",
    "test.regularization = 0.5\n",
    "# Starting value of features\n",
    "test.initFeatureValue = 0.2\n",
    "# Number of iterations\n",
    "test.numofiterations = 10\n",
    "\n"
   ]
  },
  {
   "cell_type": "code",
   "execution_count": 22,
   "metadata": {},
   "outputs": [
    {
     "name": "stderr",
     "output_type": "stream",
     "text": [
      "INFO - Calculating folded baseline: 5\n",
      "INFO -  MaxUserId = 157\n",
      "INFO -  MaxItemId = 3646\n",
      "INFO - Feature = 0\n",
      "INFO -  MaxUserId = 103\n",
      "INFO -  MaxItemId = 3646\n",
      "INFO - Feature = 0\n",
      "INFO -  MaxUserId = 157\n",
      "INFO -  MaxItemId = 3646\n",
      "INFO - Feature = 0\n",
      "INFO -  MaxUserId = 157\n",
      "INFO -  MaxItemId = 3585\n",
      "INFO - Feature = 0\n",
      "INFO -  MaxUserId = 157\n",
      "INFO -  MaxItemId = 3646\n",
      "INFO - Feature = 0\n",
      "INFO - MF algorithm RMSE = 1.1246816233480064\n"
     ]
    },
    {
     "name": "stdout",
     "output_type": "stream",
     "text": [
      "1.1246816233480064\n",
      "Wall time: 21.4 s\n"
     ]
    }
   ],
   "source": [
    "%%time\n",
    "print (test.getBaseline())"
   ]
  },
  {
   "cell_type": "markdown",
   "metadata": {},
   "source": [
    "### Naloga 2\n",
    "Pri številu značilk 3, spreminjaj število pregibov (folds): 0, 2, 5, 10. Kako vpliva na rezultat, in čas izvajanja? Rezultate zberi v tabeli."
   ]
  },
  {
   "cell_type": "markdown",
   "metadata": {},
   "source": [
    "### Naloga 3 (Bonus)\n",
    "* Preizkusi vpliv parametrov regularizacija, in learning rate, na napako (RMSE). Rezultate predstavi v tabeli in v grafu.\n",
    "\n",
    "\n"
   ]
  },
  {
   "cell_type": "code",
   "execution_count": null,
   "metadata": {},
   "outputs": [],
   "source": []
  }
 ],
 "metadata": {
  "kernelspec": {
   "display_name": "Python 3",
   "language": "python",
   "name": "python3"
  },
  "language_info": {
   "codemirror_mode": {
    "name": "ipython",
    "version": 3
   },
   "file_extension": ".py",
   "mimetype": "text/x-python",
   "name": "python",
   "nbconvert_exporter": "python",
   "pygments_lexer": "ipython3",
   "version": "3.6.9"
  },
  "pycharm": {
   "stem_cell": {
    "cell_type": "raw",
    "metadata": {
     "collapsed": false
    },
    "source": []
   }
  }
 },
 "nbformat": 4,
 "nbformat_minor": 4
}
